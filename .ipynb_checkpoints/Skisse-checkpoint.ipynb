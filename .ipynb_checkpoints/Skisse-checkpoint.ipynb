{
 "cells": [
  {
   "cell_type": "markdown",
   "id": "6c0cab82-822d-4f08-a078-761950cfa787",
   "metadata": {},
   "source": [
    "# **Semesteroppgave prosjektskisse**"
   ]
  },
  {
   "cell_type": "markdown",
   "id": "344ea459-7c7f-477f-8dcf-db025c3b9055",
   "metadata": {},
   "source": [
    "Jeg har valgt å gjennomføre et prosjekt som ser på et annuitetslån."
   ]
  },
  {
   "cell_type": "markdown",
   "id": "43f9cdbe-2a17-4e95-a4af-3624046e83c0",
   "metadata": {},
   "source": [
    "Her skal jeg se på gebyrer, renter og avdrag. Samt også fremstille diagrammer som er med på å visualisere annuitetslånet."
   ]
  },
  {
   "cell_type": "markdown",
   "id": "34956c01-0d0c-4ec6-ae1b-eb3c6ac9549f",
   "metadata": {},
   "source": [
    "For å gjennomføre dette vil det være nødvendig å benytte seg av flere pakker"
   ]
  },
  {
   "cell_type": "markdown",
   "id": "b4b88611-88e1-428a-bac0-d0d8aa02baa3",
   "metadata": {},
   "source": [
    "Disse vil være blant annet:\n",
    "numpy,\n",
    "pandas,\n",
    "sympys\n",
    "og matplotlib"
   ]
  },
  {
   "cell_type": "markdown",
   "id": "ada2a6f9-fce6-4cbd-87f5-b663d5eb12bf",
   "metadata": {},
   "source": [
    "I tilleg er det greit med matematisk forsåelse av hva et annuitetslån er, og kunne forstå forskjellen mellom annuitetslån og serielån, samt ha forståelse for hvilket lån som egner seg mest."
   ]
  },
  {
   "cell_type": "markdown",
   "id": "6a55d0e0-cbba-4876-aca7-129e41482ca8",
   "metadata": {},
   "source": [
    "Mulig problemstilling: Familien Hanssen har et ønske om å kjøpe hus. De er to foreldre med to barn og er på utkikk etter en større bolig. Begge to har fast inntekt men ikke nok til å betale store rentebeløp i starten."
   ]
  }
 ],
 "metadata": {
  "kernelspec": {
   "display_name": "Python 3 (ipykernel)",
   "language": "python",
   "name": "python3"
  },
  "language_info": {
   "codemirror_mode": {
    "name": "ipython",
    "version": 3
   },
   "file_extension": ".py",
   "mimetype": "text/x-python",
   "name": "python",
   "nbconvert_exporter": "python",
   "pygments_lexer": "ipython3",
   "version": "3.9.5"
  }
 },
 "nbformat": 4,
 "nbformat_minor": 5
}
