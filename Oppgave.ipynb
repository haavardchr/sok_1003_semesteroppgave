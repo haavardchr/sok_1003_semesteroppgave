{
 "cells": [
  {
   "cell_type": "markdown",
   "id": "c9a50a02-e6b8-4593-93c2-2bb127433f8b",
   "metadata": {},
   "source": [
    "# **Semesteroppgave**"
   ]
  },
  {
   "cell_type": "markdown",
   "id": "bd192e5d-7556-4951-ac1e-2518707695f9",
   "metadata": {},
   "source": [
    "Familien Hanssen består av fire familiemedlemmer, pappa Jørn, mamma Trine og de to barna deres Lars (5) og Lise (2)"
   ]
  },
  {
   "cell_type": "markdown",
   "id": "b2f1355d-721b-4f23-bcc8-79205b926200",
   "metadata": {},
   "source": [
    "De har til nå bodd i et rekkehus som de har leid av et utleier, men ønsker å kjøpe et hus selv. De har en samlet årlig inntekt på 648 000 kr etter skatt og har ingen gjeld fra før. De har i tillegg klart å spare 500 000 kr i egenkapital. "
   ]
  },
  {
   "cell_type": "markdown",
   "id": "fe790aeb-d71d-4a2f-98b3-360efd676931",
   "metadata": {},
   "source": [
    "De har en ide om hvilke prisklasse de ligger i når det kommer til huskjøp, omtrent 6 000 000 kr, og formidler seg i banken om lånemuligheter."
   ]
  },
  {
   "cell_type": "markdown",
   "id": "7b7a84a3-f5cb-40ba-b7d7-bb205e3c8ecf",
   "metadata": {},
   "source": [
    "I banken får de tilbud om et lån på 5 500 000 kr, en rente på 2,14% og en nedbetalingstid på 30 år. Dette ønsker de å undersøke nermere, for å se hvor mye de må betale både årlig og månedlig. "
   ]
  },
  {
   "cell_type": "code",
   "execution_count": null,
   "id": "0d9be815-8c6a-4893-9fcb-22d2392003c9",
   "metadata": {},
   "outputs": [],
   "source": [
    "def loan(x, y, z):\n",
    "    a = (x*y*((1+y)**z))\n",
    "    b = (((1+y)**z)-1)\n",
    "    c = (a/b)\n",
    "    return c"
   ]
  },
  {
   "cell_type": "code",
   "execution_count": null,
   "id": "02902a19-f016-4332-95f9-c4ed85136b9c",
   "metadata": {},
   "outputs": [],
   "source": [
    "loan(5500000, 0.0214, 30)"
   ]
  },
  {
   "cell_type": "markdown",
   "id": "06158b42-eb2d-4605-8551-e830187cf5b1",
   "metadata": {},
   "source": [
    "Familien bestemmer seg for å oppsøke flere banker for å se om de kan få en bedre låneavtale. I DNB får de tilbud om et lån av samme størrelse med lavere rente, men med kortere nedbetalingstid. De vil derfor sammenligne de to tilbude for å se hvilket som passer de best."
   ]
  },
  {
   "cell_type": "code",
   "execution_count": 16,
   "id": "acd64118-4db8-400d-912e-c50f8fac355a",
   "metadata": {},
   "outputs": [
    {
     "data": {
      "text/plain": [
       "265611.97396600957"
      ]
     },
     "execution_count": 16,
     "metadata": {},
     "output_type": "execute_result"
    }
   ],
   "source": [
    "loan(5500000, 0.02, 27)"
   ]
  },
  {
   "cell_type": "code",
   "execution_count": null,
   "id": "2f7010ef-59db-43c1-9a46-301f520fa0d3",
   "metadata": {},
   "outputs": [],
   "source": [
    "import math\n",
    "WIDTH = 20\n",
    "\n",
    "def låninfo():\n",
    "    lånmen   = float(input('Lån størrelse'))\n",
    "    rente    = float(input('Rente i prosent'))\n",
    "    return lånmen, rente\n",
    "\n",
    "def lånlengdemeny():\n",
    "    print('-' * WIDTH)\n",
    "    print('Lån lengde meny: ')\n",
    "    print('-' * WIDTH)\n",
    "    print('1. Ett år')\n",
    "    print('2. To år')\n",
    "    print('3. Tre år')\n",
    "    print('4. Fire år')\n",
    "    print('5. Fem år')\n",
    "    print('6. Seks år')\n",
    "    print('7. Syv år')\n",
    "    print('8. Åtte år')\n",
    "    print('9. Ni år')\n",
    "    print('10. Ti år')\n",
    "    print('11. Elleve år')\n",
    "    print('12. Tolv år')\n",
    "    print('13. Tretten år')\n",
    "    print('14. Fjorten år')\n",
    "    print('15. Femten år')\n",
    "    print('16. Seksten år')\n",
    "    print('17. Sytten år')\n",
    "    print('18. Atten år')\n",
    "    print('19. Nitten år')\n",
    "    print('20. Tjue år')\n",
    "    print('21. Tjueen år')\n",
    "    print('22. Tjueto år')\n",
    "    print('23. Tjuetre år')\n",
    "    print('24. Tjuefire år')\n",
    "    print('25. Tjuefem år')\n",
    "    print('26. Tjueseks år')\n",
    "    print('27. Tjuesyv år')\n",
    "    print('28. Tjueåtte år')\n",
    "    print('29. Tjueni år')\n",
    "    print('30. Tretti år')\n",
    "    print('0. AVSLUTT')\n",
    "    print()\n",
    "    menuChoice = -9999\n",
    "    menuChoice = int(input('Velg av alternativene over: '))\n",
    "    if menuChoice == 0:\n",
    "        print('AVSLUTTET')\n",
    "    else:\n",
    "        while menuChoice <0 or menuChoice > 30:\n",
    "            menuChoice = int(input('\\nUgyldig valg\\nVelg av alternativene over: '))\n",
    "        print('Gyldig valg', menuChoice)\n",
    "    monthTerm = (menuChoice * 12)\n",
    "    return monthTerm\n",
    "\n",
    "def calcPayment(monthTerm, lånmen, rente):\n",
    "    interestPP = ((rente * .1) / monthTerm)\n",
    "    paymentAmt = (interestPP * lånmen) / (1 - (1 + interestPP)**-monthTerm)\n",
    "    return paymentAmt, interestPP\n",
    "\n",
    "def displayPmtReport(paymentAmt, monthTerm, interestPP, lånmen):\n",
    "    headerFmt = ' {0:10}{1:10}{2:10}{3:10}{4:20s}'\n",
    "    valueFmt   = '{0:5d}{1:12,.2f}{2:10,.2f}{3:12,.2f}{4:12,.2f}'\n",
    "    print(headerFmt.format('Pmt#','PmtAmt','Int','Princ','Balance'))\n",
    "    balance    = lånmen\n",
    "    for payments in range(1, monthTerm+1):\n",
    "        interest  = balance * interestPP\n",
    "        principle = paymentAmt - interest\n",
    "        balance  -= principle\n",
    "        print(valueFmt.format(payments, paymentAmt, interest, principle, balance))\n",
    "        \n",
    "\n",
    "def main():\n",
    "    lånmen, rente          = låninfo()\n",
    "    monthTerm              = lånlengdemeny()\n",
    "    paymentAmt, interestPP = calcPayment(monthTerm, lånmen, rente)\n",
    "    displayPmtReport(paymentAmt, monthTerm, interestPP, lånmen)\n",
    "    runAgain = input(\"Kjør igjen? Trykk 'Y', trykk annet for å avslutte: \").upper()\n",
    "    while runAgain == 'Y':\n",
    "        lånmen, interestRate   = låninfo()\n",
    "        monthTerm              = lånlengdemeny()\n",
    "        paymentAmt, interestPP = calcPayment(monthTerm, lånmen, rente)\n",
    "        displayPmtReport(paymentAmt, monthTerm, interestPP, lånmen)\n",
    "        runAgain = input(\"Kjør igjen? Trykk 'Y', trykk annet for å avslutte: \").upper()\n",
    "    else:\n",
    "        print('På gjensyn')\n",
    "        \n",
    "main()"
   ]
  }
 ],
 "metadata": {
  "kernelspec": {
   "display_name": "Python 3 (ipykernel)",
   "language": "python",
   "name": "python3"
  },
  "language_info": {
   "codemirror_mode": {
    "name": "ipython",
    "version": 3
   },
   "file_extension": ".py",
   "mimetype": "text/x-python",
   "name": "python",
   "nbconvert_exporter": "python",
   "pygments_lexer": "ipython3",
   "version": "3.9.5"
  }
 },
 "nbformat": 4,
 "nbformat_minor": 5
}
